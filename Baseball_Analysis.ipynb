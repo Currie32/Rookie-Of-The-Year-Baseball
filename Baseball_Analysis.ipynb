{
 "cells": [
  {
   "cell_type": "markdown",
   "metadata": {},
   "source": [
    "The Goals:\n",
    "(1) To see if winners of 'Rookie of the Year' (RY) have above average careers and \n",
    "(2) To see if there is a trend of each winner of RY being better than the previous winner."
   ]
  },
  {
   "cell_type": "code",
   "execution_count": 1,
   "metadata": {
    "collapsed": false
   },
   "outputs": [],
   "source": [
    "import pandas as pd\n",
    "import numpy as np\n",
    "import matplotlib.pyplot as plt\n",
    "import seaborn as sns"
   ]
  },
  {
   "cell_type": "markdown",
   "metadata": {},
   "source": [
    "Step 1: Load the datasets."
   ]
  },
  {
   "cell_type": "code",
   "execution_count": 2,
   "metadata": {
    "collapsed": false
   },
   "outputs": [],
   "source": [
    "#1.1\n",
    "#A dataset which includes players who have won RY and other awards\n",
    "player_awards_df = pd.read_csv(\"/Users/Dave/Desktop/Programming/Personal Projects/Baseball Analysis/baseballdatabank-master/core/AwardsPlayers.csv\")"
   ]
  },
  {
   "cell_type": "code",
   "execution_count": 3,
   "metadata": {
    "collapsed": true
   },
   "outputs": [],
   "source": [
    "#1.2\n",
    "#contains the career statisticss of batters in the MLB\n",
    "batting_df = pd.read_csv(\"/Users/Dave/Desktop/Programming/Personal Projects/Baseball Analysis/baseballdatabank-master/core/batting.csv\")"
   ]
  },
  {
   "cell_type": "code",
   "execution_count": 4,
   "metadata": {
    "collapsed": true
   },
   "outputs": [],
   "source": [
    "#1.3\n",
    "#contains the career statistics of pitchers in the MLB\n",
    "pitching_df = pd.read_csv(\"/Users/Dave/Desktop/Programming/Personal Projects/Baseball Analysis/baseballdatabank-master/core/Pitching.csv\")"
   ]
  },
  {
   "cell_type": "markdown",
   "metadata": {},
   "source": [
    "Step 2: Adjust batting_df and pitching_df to the analysis' timeframe."
   ]
  },
  {
   "cell_type": "code",
   "execution_count": 5,
   "metadata": {
    "collapsed": false
   },
   "outputs": [],
   "source": [
    "#2.1\n",
    "#The Rookie of the Year award was first awarded in 1947, \n",
    "#therefore only values from 1947 onwards should be included in the analysis.\n",
    "batting_df = batting_df[batting_df.yearID >= 1947]\n",
    "pitching_df = pitching_df[pitching_df.yearID >= 1947]"
   ]
  },
  {
   "cell_type": "markdown",
   "metadata": {},
   "source": [
    "Step 3: Find who the RY winners are."
   ]
  },
  {
   "cell_type": "code",
   "execution_count": 6,
   "metadata": {
    "collapsed": false
   },
   "outputs": [],
   "source": [
    "#3.1\n",
    "#ry_winners: Create a dataframe of only the players who have won RY\n",
    "ry_winners = player_awards_df.loc[player_awards_df['awardID'] == 'Rookie of the Year']"
   ]
  },
  {
   "cell_type": "code",
   "execution_count": 7,
   "metadata": {
    "collapsed": false
   },
   "outputs": [],
   "source": [
    "#3.2\n",
    "#batting_rookies: Create a dataframe of batters who have won RY, \n",
    "#                (this will contain the batting statistics of some pitchers who have won RY)\n",
    "batting_rookies = ry_winners.merge(batting_df, \n",
    "                                     how = 'left',\n",
    "                                     on = 'playerID',\n",
    "                                    )"
   ]
  },
  {
   "cell_type": "code",
   "execution_count": 8,
   "metadata": {
    "collapsed": true
   },
   "outputs": [],
   "source": [
    "#3.3\n",
    "#pitching_rookies: Create a dataframe of pitchers who have won RY\n",
    "pitching_rookies = ry_winners.merge(pitching_df,\n",
    "                                     how = 'inner',\n",
    "                                     on = 'playerID')"
   ]
  },
  {
   "cell_type": "markdown",
   "metadata": {},
   "source": [
    "Step 4: Format the datasets to only include the important statistics."
   ]
  },
  {
   "cell_type": "code",
   "execution_count": 9,
   "metadata": {
    "collapsed": false
   },
   "outputs": [],
   "source": [
    "#4.0\n",
    "'''\n",
    "batting_rookies: Players' IDs, Games Played, At Bats, Hits, Home Runs, Runs, Runs Batted In.\n",
    "batting_df: same statistics as batting_rookies.\n",
    "pitching_rookies: Players' IDs, Games Played, Wins, Outs Pitched, Batters Faced, Hits, Home Runs, \n",
    "                  Strike Outs, and Earned Runs.\n",
    "pitching_df: same statistics as pitching_rookies.\n",
    "'''\n",
    "batting_rookies = batting_rookies[['playerID', 'G', 'AB', 'H', 'HR', 'R', 'RBI']]\n",
    "batting_df = batting_df[['playerID', 'G', 'AB', 'H', 'HR', 'R', 'RBI']]\n",
    "pitching_rookies = pitching_rookies[['playerID', 'G', 'W', 'IPouts', 'BFP', 'H', 'HR', 'SO', 'ER']]\n",
    "pitching_df = pitching_df[['playerID', 'G', 'W', 'IPouts', 'BFP', 'H', 'HR', 'SO', 'ER']]"
   ]
  },
  {
   "cell_type": "markdown",
   "metadata": {},
   "source": [
    "Step 5: Find any missing values in the dataframes."
   ]
  },
  {
   "cell_type": "code",
   "execution_count": 10,
   "metadata": {
    "collapsed": false
   },
   "outputs": [
    {
     "name": "stdout",
     "output_type": "stream",
     "text": [
      "playerID     0\n",
      "G            0\n",
      "AB          51\n",
      "H           51\n",
      "HR          51\n",
      "R           51\n",
      "RBI         51\n",
      "dtype: int64\n",
      "playerID       0\n",
      "G              0\n",
      "AB          5149\n",
      "H           5149\n",
      "HR          5149\n",
      "R           5149\n",
      "RBI         5149\n",
      "dtype: int64\n",
      "playerID    0\n",
      "G           0\n",
      "W           0\n",
      "IPouts      0\n",
      "BFP         0\n",
      "H           0\n",
      "HR          0\n",
      "SO          0\n",
      "ER          0\n",
      "dtype: int64\n",
      "playerID    0\n",
      "G           0\n",
      "W           0\n",
      "IPouts      1\n",
      "BFP         0\n",
      "H           0\n",
      "HR          0\n",
      "SO          0\n",
      "ER          0\n",
      "dtype: int64\n"
     ]
    }
   ],
   "source": [
    "#5.1\n",
    "#Search through dataframes to find any missing values.\n",
    "dataframes = [batting_rookies, batting_df, pitching_rookies, pitching_df]\n",
    "for df in dataframes:\n",
    "    print df.isnull().sum()"
   ]
  },
  {
   "cell_type": "code",
   "execution_count": 11,
   "metadata": {
    "collapsed": true
   },
   "outputs": [],
   "source": [
    "#5.2.1\n",
    "'''\n",
    "Since there are so many values missing in most of the categories, I am going to remove them from the dataframes\n",
    "as they would overweight the 'G' statistic or underweight the 'AB','H','HR','R','RBI' statistics. The analysis \n",
    "should be more accurate without these values.\n",
    "\n",
    "Because all players that have null values in 'AB' also have null values in 'H','HR','R', and 'RBI', I only need\n",
    "to select AB.notnull() to remove all the players with missing values.\n",
    "'''\n",
    "batting_rookies = batting_rookies[batting_rookies.AB.notnull()]\n",
    "batting_df = batting_df[batting_df.AB.notnull()]"
   ]
  },
  {
   "cell_type": "code",
   "execution_count": 12,
   "metadata": {
    "collapsed": false
   },
   "outputs": [
    {
     "name": "stdout",
     "output_type": "stream",
     "text": [
      "        playerID  G  W  IPouts   BFP  H  HR  SO  ER\n",
      "42959  leblawa01  1  0     NaN  28.0  6   2   4   4\n"
     ]
    }
   ],
   "source": [
    "#5.2.2\n",
    "#This player's statistics minimally affect the analysis, so I will remove it from the pitching dataframe to have a \n",
    "#complete set of data.\n",
    "inds = pd.isnull(pitching_df).any(1).nonzero()[0]\n",
    "print pitching_df.iloc[inds]\n",
    "pitching_df = pitching_df[pitching_df.IPouts.notnull()]"
   ]
  },
  {
   "cell_type": "code",
   "execution_count": 13,
   "metadata": {
    "collapsed": false
   },
   "outputs": [
    {
     "name": "stdout",
     "output_type": "stream",
     "text": [
      "playerID    0\n",
      "G           0\n",
      "AB          0\n",
      "H           0\n",
      "HR          0\n",
      "R           0\n",
      "RBI         0\n",
      "dtype: int64\n",
      "playerID    0\n",
      "G           0\n",
      "AB          0\n",
      "H           0\n",
      "HR          0\n",
      "R           0\n",
      "RBI         0\n",
      "dtype: int64\n",
      "playerID    0\n",
      "G           0\n",
      "W           0\n",
      "IPouts      0\n",
      "BFP         0\n",
      "H           0\n",
      "HR          0\n",
      "SO          0\n",
      "ER          0\n",
      "dtype: int64\n",
      "playerID    0\n",
      "G           0\n",
      "W           0\n",
      "IPouts      0\n",
      "BFP         0\n",
      "H           0\n",
      "HR          0\n",
      "SO          0\n",
      "ER          0\n",
      "dtype: int64\n"
     ]
    }
   ],
   "source": [
    "#5.3\n",
    "#Check to make sure that all the missing values are removed.\n",
    "dataframes = [batting_rookies, batting_df, pitching_rookies, pitching_df]\n",
    "for df in dataframes:\n",
    "    print df.isnull().sum()"
   ]
  },
  {
   "cell_type": "markdown",
   "metadata": {},
   "source": [
    "Step 6: Sum the career statistics of all players."
   ]
  },
  {
   "cell_type": "code",
   "execution_count": 14,
   "metadata": {
    "collapsed": true
   },
   "outputs": [],
   "source": [
    "#6.0\n",
    "#Don't set playerID to index, as it will need to be removed from dataframe later; \n",
    "#that is easier to do when playerID is not the index.\n",
    "batting_rookies_career_totals = batting_rookies.groupby('playerID', as_index = False).sum()\n",
    "pitching_rookies_career_totals = pitching_rookies.groupby('playerID', as_index = False).sum()\n",
    "batting_df_career_totals = batting_df.groupby('playerID', as_index = False).sum()\n",
    "pitching_df_career_totals = pitching_df.groupby('playerID', as_index = False).sum()"
   ]
  },
  {
   "cell_type": "markdown",
   "metadata": {},
   "source": [
    "Step 7: Include statistics that cannot be summed."
   ]
  },
  {
   "cell_type": "code",
   "execution_count": 15,
   "metadata": {
    "collapsed": false
   },
   "outputs": [],
   "source": [
    "#7.1\n",
    "#Add Batting Average (AVG) to batters by dividing their Hits (H) by At Bats (AB).\n",
    "batting_rookies_career_totals['AVG'] = (batting_rookies_career_totals['H'] / \n",
    "                                        batting_rookies_career_totals['AB'])\n",
    "\n",
    "batting_df_career_totals['AVG'] = (batting_df_career_totals['H'] / \n",
    "                                   batting_df_career_totals['AB'])"
   ]
  },
  {
   "cell_type": "code",
   "execution_count": 16,
   "metadata": {
    "collapsed": true
   },
   "outputs": [],
   "source": [
    "#7.2\n",
    "#Add Oppenent Batting Average (BAopp) to pitchers by dividing their Hits (H) by Batters Faced (BFP).\n",
    "#Add Earned Run Average (ERA) to pitchers by dividing their Earned Runs (ER) by Outs Pitched (IPouts), \n",
    "#    divided by 27 (the number of outs in a full baseball game)\n",
    "pitching_rookies_career_totals['BAopp'] = (pitching_rookies_career_totals['H'] /\n",
    "                                          pitching_rookies_career_totals['BFP'])\n",
    "\n",
    "pitching_rookies_career_totals['ERA'] = (pitching_rookies_career_totals['ER'] /\n",
    "                                        (pitching_rookies_career_totals['IPouts'] / 27))\n",
    "\n",
    "pitching_df_career_totals['BAopp'] = (pitching_df_career_totals['H'] /\n",
    "                                          pitching_df_career_totals['BFP'])\n",
    "\n",
    "pitching_df_career_totals['ERA'] = (pitching_df_career_totals['ER'] /\n",
    "                                        (pitching_df_career_totals['IPouts'] / 27))"
   ]
  },
  {
   "cell_type": "markdown",
   "metadata": {},
   "source": [
    "Step 8: Create new series for the overall means of each statistic in each dataframe."
   ]
  },
  {
   "cell_type": "code",
   "execution_count": 17,
   "metadata": {
    "collapsed": false
   },
   "outputs": [],
   "source": [
    "#8.0\n",
    "batting_rookies_overall_means = batting_rookies_career_totals.mean()\n",
    "batting_df_overall_means = batting_df_career_totals.mean()\n",
    "\n",
    "pitching_rookies_overall_means = pitching_rookies_career_totals.mean()\n",
    "pitching_df_overall_means = pitching_df_career_totals.mean()"
   ]
  },
  {
   "cell_type": "markdown",
   "metadata": {},
   "source": [
    "Step 9: Find the percentile that each RY winner statistic falls under."
   ]
  },
  {
   "cell_type": "code",
   "execution_count": 18,
   "metadata": {
    "collapsed": false
   },
   "outputs": [],
   "source": [
    "#9.1\n",
    "#Create the function 'percentile' that finds which percentile the rookie_mean is at in the league_totals.\n",
    "def percentile(league_totals, rookie_mean):\n",
    "    sorted_league = league_totals.sort_values() #sort league stats to get them in ascending order\n",
    "    for value in sorted_league: \n",
    "        if value >= rookie_mean: #find the first row that is greater than the rookie mean\n",
    "            i = 0.0\n",
    "            for row in sorted_league:\n",
    "                if row == value:\n",
    "                    return i / league_totals.size #the percentile is the row/player that the rookie mean equals,\n",
    "                i += 1                            #divided by the total number of rows/players.  "
   ]
  },
  {
   "cell_type": "code",
   "execution_count": 19,
   "metadata": {
    "collapsed": false
   },
   "outputs": [
    {
     "name": "stdout",
     "output_type": "stream",
     "text": [
      "G = 0.925491644354\n",
      "AB = 0.932139229988\n",
      "H = 0.936940264057\n",
      "HR = 0.95522112455\n",
      "R = 0.942664573908\n",
      "RBI = 0.946173021882\n",
      "AVG = 0.583602622103\n"
     ]
    }
   ],
   "source": [
    "#9.2\n",
    "#Apply the percentile function on the batters' statistics via a loop through each batter statisitic.\n",
    "batting_statistics = ['G','AB','H','HR','R','RBI','AVG']\n",
    "for statistic in batting_statistics:\n",
    "    print statistic + ' = ' + str(percentile(batting_df_career_totals[statistic], batting_rookies_overall_means[statistic]))"
   ]
  },
  {
   "cell_type": "markdown",
   "metadata": {},
   "source": [
    "Follow up to Step 9.2:\n",
    "Compared to all other batters in the MLB, it appears that RY winners are excellent performers in all areas, but AVG, which they are slightly above average.\n",
    "\n",
    "9.2.1:\n",
    "Plot the means of the statisitcs, to give a visual representation of the data and difference in values between RY winners and all other batters."
   ]
  },
  {
   "cell_type": "code",
   "execution_count": 20,
   "metadata": {
    "collapsed": false
   },
   "outputs": [
    {
     "data": {
      "image/png": "[encoded data removed]",
      "text/plain": [
       "<matplotlib.figure.Figure at 0x10b930ad0>"
      ]
     },
     "metadata": {},
     "output_type": "display_data"
    }
   ],
   "source": [
    "#9.2.1\n",
    "'''\n",
    "At Bats were intentionally left out, as its values would be far greater than those of the other statisitics and would\n",
    "make the plot more difficult to view. Batting Average was also left out as its value would not be shown clearly, and\n",
    "I will plot it below.\n",
    "'''\n",
    "batting_statistics_1 = pd.DataFrame({'RY Winners': batting_rookies_overall_means[['G', 'H','HR','R', 'RBI']],\n",
    "                                     'All Batters': batting_df_overall_means[['G', 'H','HR','R', 'RBI']]},\n",
    "                                     columns=['RY Winners','All Batters'])\n",
    "\n",
    "batting_statistics_1.plot(kind='bar')\n",
    "plt.show()"
   ]
  },
  {
   "cell_type": "code",
   "execution_count": 21,
   "metadata": {
    "collapsed": false
   },
   "outputs": [
    {
     "name": "stdout",
     "output_type": "stream",
     "text": [
      "G = 0.847070844687\n",
      "W = 0.909400544959\n",
      "IPouts = 0.898671662125\n",
      "BFP = 0.895776566757\n",
      "H = 0.890667574932\n",
      "HR = 0.882152588556\n",
      "SO = 0.91757493188\n",
      "ER = 0.886069482289\n",
      "BAopp = 0.26924386921\n",
      "ERA = 0.541723433243\n"
     ]
    }
   ],
   "source": [
    "#9.3\n",
    "#Apply the percentile function on the pitchers' statistics via a loop through each pitcher statistic.\n",
    "pitching_statistics = ['G','W','IPouts','BFP','H','HR','SO','ER','BAopp','ERA']\n",
    "for statistic in pitching_statistics:\n",
    "    print statistic + ' = ' + str(percentile(pitching_df_career_totals[statistic], pitching_rookies_overall_means[statistic]))"
   ]
  },
  {
   "cell_type": "markdown",
   "metadata": {},
   "source": [
    "Follow up to step 9.3:\n",
    "I believe some of these figures are misleading. Since RY winners typically faced so many more batters than an average pitcher, it makes sense that they have also given up many more Hits, Home Runs, and Earned Runs, on average. In terms of positive statistics for RY winners, they have played more games, have more wins, and more strikeouts than most other pitchers. \n",
    "\n",
    "9.3.1:\n",
    "Plot the means of the statisitcs, to give a visual representation of the data and difference in values between RY winners and all other pitchers."
   ]
  },
  {
   "cell_type": "code",
   "execution_count": 22,
   "metadata": {
    "collapsed": false
   },
   "outputs": [
    {
     "data": {
      "image/png": "[encoded data removed]",
      "text/plain": [
       "<matplotlib.figure.Figure at 0x10905e1d0>"
      ]
     },
     "metadata": {},
     "output_type": "display_data"
    }
   ],
   "source": [
    "#9.3.1.1\n",
    "# Statistics are grouped by relatively similar values - first set.\n",
    "pitching_stats_1 = pd.DataFrame({'RY Winners': pitching_rookies_overall_means[['G','W','HR','ER']],\n",
    "                    'All Pitchers': pitching_df_overall_means[['G','W','HR','ER']]},\n",
    "                     columns=['RY Winners','All Pitchers'])\n",
    "\n",
    "pitching_stats_1.plot(kind='bar')\n",
    "plt.show()"
   ]
  },
  {
   "cell_type": "code",
   "execution_count": 23,
   "metadata": {
    "collapsed": false
   },
   "outputs": [
    {
     "data": {
      "image/png": "[encoded data removed]",
      "text/plain": [
       "<matplotlib.figure.Figure at 0x1092a7dd0>"
      ]
     },
     "metadata": {},
     "output_type": "display_data"
    }
   ],
   "source": [
    "#9.3.1.2\n",
    "# Statistics are grouped by relatively similar values - second set.\n",
    "pitching_stats_2 = pd.DataFrame({'RY Winners': pitching_rookies_overall_means[['IPouts','BFP','H','SO']],\n",
    "                    'All Pitchers': pitching_df_overall_means[['IPouts','BFP','H','SO']]},\n",
    "                     columns=['RY Winners','All Pitchers'])\n",
    "\n",
    "pitching_stats_2.plot(kind='bar')\n",
    "plt.show()"
   ]
  },
  {
   "cell_type": "markdown",
   "metadata": {},
   "source": [
    "Step 10: Inquiry about unexpected results."
   ]
  },
  {
   "cell_type": "code",
   "execution_count": 24,
   "metadata": {
    "collapsed": false
   },
   "outputs": [
    {
     "name": "stdout",
     "output_type": "stream",
     "text": [
      "      playerID     G       AB       H     HR       R     RBI       AVG\n",
      "0    abreujo02   299   1169.0   354.0   66.0   168.0   208.0  0.302823\n",
      "1     ageeto01  1129   3912.0   999.0  130.0   558.0   433.0  0.255368\n",
      "2    allendi01  1749   6332.0  1848.0  351.0  1099.0  1119.0  0.291851\n",
      "3    allisbo01  1541   5032.0  1281.0  256.0   811.0   796.0  0.254571\n",
      "4    alomasa02  1377   4530.0  1236.0  112.0   520.0   588.0  0.272848\n",
      "5    aparilu01  2601  10230.0  2677.0   83.0  1335.0   791.0  0.261681\n",
      "6    bagweje01  2150   7797.0  2314.0  449.0  1517.0  1529.0  0.296781\n",
      "7    bahnsst01   519    479.0    56.0    1.0    22.0    19.0  0.116910\n",
      "8    bailean01   216      0.0     0.0    0.0     0.0     0.0       NaN\n",
      "9      bayja01  1278   4505.0  1200.0  222.0   737.0   754.0  0.266371\n",
      "10   beltrca01  2306   8749.0  2454.0  392.0  1449.0  1443.0  0.280489\n",
      "11   benchjo01  2158   7658.0  2048.0  389.0  1091.0  1376.0  0.267433\n",
      "12   berroan01   746   2575.0   665.0   46.0   329.0   254.0  0.258252\n",
      "13   blackjo02   175     96.0    13.0    0.0     5.0     9.0  0.135417\n",
      "14   blefacu01   974   2947.0   699.0  112.0   394.0   382.0  0.237190\n",
      "15   braunry02  1219   4738.0  1441.0  255.0   799.0   846.0  0.304137\n",
      "16   bryankr01   151    559.0   154.0   26.0    87.0    99.0  0.275492\n",
      "17   bumbral01  1496   5053.0  1422.0   54.0   778.0   402.0  0.281417\n",
      "18    byrdha01   187    262.0    42.0    0.0    16.0    14.0  0.160305\n",
      "19   cansejo01  1887   7057.0  1877.0  462.0  1186.0  1407.0  0.265977\n",
      "20   carewro01  2469   9315.0  3053.0   92.0  1424.0  1015.0  0.327751\n",
      "21   castijo01   666   2320.0   646.0   41.0   293.0   249.0  0.278448\n",
      "22   cepedor01  2124   7927.0  2351.0  379.0  1131.0  1365.0  0.296581\n",
      "23   chambch01  2175   7571.0  2109.0  185.0   912.0   972.0  0.278563\n",
      "24   charbjo01   201    647.0   172.0   29.0    97.0   114.0  0.265842\n",
      "25   coghlch01   666   2244.0   602.0   46.0   311.0   199.0  0.268271\n",
      "26   colemvi01  1371   5406.0  1425.0   28.0   849.0   346.0  0.263596\n",
      "27   cordoma01   952   3419.0   938.0  122.0   480.0   540.0  0.274349\n",
      "28   correca01    99    387.0   108.0   22.0    52.0    68.0  0.279070\n",
      "29   crosbbo01   747   2559.0   605.0   62.0   329.0   276.0  0.236420\n",
      "30    darkal01  1813   7206.0  2086.0  126.0  1064.0   756.0  0.289481\n",
      "31   davisal01  1206   4240.0  1189.0  160.0   568.0   683.0  0.280425\n",
      "32   dawsoan01  2627   9927.0  2774.0  438.0  1373.0  1591.0  0.279440\n",
      "33   degroja01    54    105.0    21.0    0.0     6.0     6.0  0.200000\n",
      "34   dropowa01  1288   4124.0  1113.0  152.0   478.0   704.0  0.269884\n",
      "35   felizne01   246      2.0     0.0    0.0     0.0     0.0  0.000000\n",
      "36   fernajo02    47     84.0    16.0    2.0     8.0     8.0  0.190476\n",
      "37   fidryma01    10      0.0     0.0    0.0     0.0     0.0       NaN\n",
      "38    fiskca01  2499   8756.0  2356.0  376.0  1276.0  1330.0  0.269073\n",
      "39   furcara01  1614   6477.0  1817.0  113.0  1063.0   587.0  0.280531\n",
      "40   garcino01  1434   5586.0  1747.0  229.0   927.0   936.0  0.312746\n",
      "41   gilliji01  1956   7119.0  1889.0   65.0  1163.0   558.0  0.265346\n",
      "42   goodedw01   405    741.0   145.0    8.0    60.0    67.0  0.195682\n",
      "43   grievbe01   976   3215.0   864.0  118.0   471.0   492.0  0.268740\n",
      "44   griffal01  1962   6780.0  1688.0   24.0   759.0   527.0  0.248968\n",
      "45    grimbo01   268    189.0    24.0    3.0    12.0    21.0  0.126984\n",
      "46   guilloz01  1993   6686.0  1764.0   28.0   773.0   619.0  0.263835\n",
      "47   hamelbo01   497   1272.0   313.0   67.0   179.0   209.0  0.246069\n",
      "48   hansero02  1384   4311.0  1007.0  106.0   446.0   501.0  0.233588\n",
      "49   hargrmi01  1666   5564.0  1614.0   80.0   783.0   686.0  0.290079\n",
      "50   harpebr03   510   1830.0   528.0   97.0   328.0   248.0  0.288525\n",
      "51   hellije01   144     47.0    10.0    0.0     3.0     7.0  0.212766\n",
      "52   helmsto01  1435   4997.0  1342.0   34.0   414.0   477.0  0.268561\n",
      "53   hinsker01  1387   3797.0   947.0  137.0   549.0   522.0  0.249407\n",
      "54   hollato01  1118   3191.0   871.0   98.0   451.0   401.0  0.272955\n",
      "55   hornebo01  1020   3777.0  1047.0  218.0   560.0   685.0  0.277204\n",
      "56   howarfr01  1895   6488.0  1774.0  382.0   864.0  1119.0  0.273428\n",
      "57   howarry01  1460   5376.0  1410.0  357.0   813.0  1135.0  0.262277\n",
      "58    howest01   282     27.0     2.0    0.0     2.0     0.0  0.074074\n",
      "59   hubbske01   324   1255.0   310.0   14.0   148.0    98.0  0.247012\n",
      "60   jennija01   234    329.0    68.0    2.0    18.0    26.0  0.206687\n",
      "61   jeterde01  2747  11195.0  3465.0  260.0  1923.0  1311.0  0.309513\n",
      "62   jethrsa01   442   1763.0   460.0   49.0   280.0   181.0  0.260919\n",
      "63   justida01  1610   5625.0  1571.0  305.0   929.0  1017.0  0.279289\n",
      "64   karroer01  1755   6441.0  1724.0  284.0   797.0  1027.0  0.267660\n",
      "65   kimbrcr01   355      1.0     0.0    0.0     0.0     0.0  0.000000\n",
      "66   kittlro01   843   2708.0   648.0  176.0   356.0   460.0  0.239291\n",
      "67   knoblch01  1632   6366.0  1839.0   98.0  1132.0   615.0  0.288878\n",
      "68   kubekto01  1092   4167.0  1109.0   57.0   522.0   373.0  0.266139\n",
      "69   kuennha01  1833   6913.0  2092.0   87.0   951.0   671.0  0.302618\n",
      "70   lefebji01   922   3014.0   756.0   74.0   313.0   404.0  0.250829\n",
      "71   listapa01   503   1772.0   444.0    5.0   250.0   143.0  0.250564\n",
      "72   longoev01  1119   4204.0  1138.0  205.0   628.0   708.0  0.270695\n",
      "73    lynnfr01  1969   6925.0  1960.0  306.0  1063.0  1111.0  0.283032\n",
      "74   matlajo01   204    441.0    57.0    0.0    32.0    23.0  0.129252\n",
      "75   matthga01  2033   7147.0  2011.0  234.0  1083.0   978.0  0.281377\n",
      "76    mayswi01  2992  10881.0  3283.0  660.0  2062.0  1903.0  0.301719\n",
      "77   mcbriba01  1071   3853.0  1153.0   63.0   548.0   430.0  0.299247\n",
      "78   mccovwi01  2588   8197.0  2211.0  521.0  1229.0  1555.0  0.269733\n",
      "79   mcdougi01  1336   4676.0  1291.0  112.0   697.0   576.0  0.276091\n",
      "80   mcgwima01  1874   6187.0  1626.0  583.0  1167.0  1414.0  0.262809\n",
      "81   metzgbu01   191     15.0     0.0    0.0     1.0     0.0  0.000000\n",
      "82   mondera01  1525   5814.0  1589.0  271.0   909.0   860.0  0.273306\n",
      "83   montejo01   278    455.0    44.0    4.0    23.0    18.0  0.096703\n",
      "84    moonwa01  1457   4843.0  1399.0  142.0   737.0   661.0  0.288871\n",
      "85   mortoca01   266    551.0    86.0    7.0    44.0    42.0  0.156080\n",
      "86   munsoth01  1423   5344.0  1558.0  113.0   696.0   701.0  0.291542\n",
      "87   murraed02  3026  11336.0  3255.0  504.0  1627.0  1917.0  0.287138\n",
      "88   myerswi01   235    885.0   227.0   27.0   127.0   117.0  0.256497\n",
      "89   newcodo01   452    878.0   238.0   15.0    94.0   108.0  0.271071\n",
      "90    nomohi01   324    485.0    65.0    4.0    22.0    26.0  0.134021\n",
      "91   olivato01  1676   6301.0  1917.0  220.0   870.0   947.0  0.304237\n",
      "92   olsongr01   491      4.0     1.0    1.0     1.0     2.0  0.250000\n",
      "93   pearsal02   988   3077.0   831.0   28.0   485.0   214.0  0.270068\n",
      "94   pedrodu01  1244   4961.0  1482.0  118.0   769.0   588.0  0.298730\n",
      "95   peterga01   450    807.0   179.0   19.0    86.0   102.0  0.221809\n",
      "96   piazzmi01  1912   6911.0  2127.0  427.0  1048.0  1335.0  0.307770\n",
      "97   pinielo01  1747   5867.0  1705.0  102.0   651.0   766.0  0.290608\n",
      "98   poseybu01   753   2739.0   850.0  102.0   361.0   447.0  0.310332\n",
      "99   pujolal01  2274   8545.0  2666.0  560.0  1599.0  1698.0  0.311995\n",
      "100  ramirha01  1328   5078.0  1503.0  210.0   881.0   707.0  0.295983\n",
      "101  righeda01   281     11.0     2.0    0.0     0.0     1.0  0.181818\n",
      "102  ripkeca01  3001  11551.0  3184.0  431.0  1647.0  1695.0  0.275647\n",
      "103  robinfr02  2808  10006.0  2943.0  586.0  1829.0  1812.0  0.294124\n",
      "104  robinja02  1382   4877.0  1518.0  137.0   947.0   734.0  0.311257\n",
      "105  rolensc01  2038   7398.0  2077.0  316.0  1211.0  1287.0  0.280752\n",
      "106   rosepe01  3562  14053.0  4256.0  160.0  2165.0  1314.0  0.302853\n",
      "107   saboch01   911   3354.0   898.0  116.0   494.0   426.0  0.267740\n",
      "108  salmoti01  1672   5934.0  1674.0  299.0   986.0  1016.0  0.282103\n",
      "109  sanfoja02   393    665.0   105.0    3.0    51.0    37.0  0.157895\n",
      "110  santibe01  1978   6951.0  1830.0  217.0   755.0   920.0  0.263271\n",
      "111  sasakka01   228      0.0     0.0    0.0     0.0     0.0       NaN\n",
      "112    saxst01  1769   6940.0  1949.0   54.0   913.0   550.0  0.280836\n",
      "113  schwado01   176    234.0    34.0    0.0    16.0    12.0  0.145299\n",
      "114  scorehe01   150    281.0    36.0    1.0    21.0    12.0  0.128114\n",
      "115  seaveto01   649   1315.0   202.0   12.0    99.0    86.0  0.153612\n",
      "116  sievero01  1887   6387.0  1703.0  318.0   945.0  1147.0  0.266635\n",
      "117  sizemte01  1411   5011.0  1311.0   23.0   577.0   430.0  0.261624\n",
      "118   sotoge01   758   2402.0   590.0  101.0   292.0   343.0  0.245629\n",
      "119  strawda01  1583   5418.0  1401.0  335.0   898.0  1000.0  0.258583\n",
      "120  streehu01   638      2.0     0.0    0.0     0.0     0.0  0.000000\n",
      "121  sutclri01   316    562.0   102.0    4.0    42.0    55.0  0.181495\n",
      "122  suzukic01  2357   9362.0  2935.0  113.0  1348.0   738.0  0.313501\n",
      "123  treshto01  1192   4251.0  1041.0  153.0   595.0   530.0  0.244884\n",
      "124  troutmi01   652   2448.0   744.0  139.0   477.0   397.0  0.303922\n",
      "125  valenfe01   440    936.0   187.0   10.0    56.0    84.0  0.199786\n",
      "126  verlaju01   318     32.0     2.0    0.0     1.0     0.0  0.062500\n",
      "127  virdobi01  1583   5980.0  1596.0   91.0   735.0   502.0  0.266890\n",
      "128  waltoje01   598   1573.0   423.0   25.0   241.0   132.0  0.268913\n",
      "129  weisswa01  1495   4686.0  1207.0   25.0   623.0   386.0  0.257576\n",
      "130  whitalo01  2390   8570.0  2369.0  244.0  1386.0  1084.0  0.276429\n",
      "131  willibi01  2488   9350.0  2711.0  426.0  1410.0  1475.0  0.289947\n",
      "132  willido03   229    389.0    95.0    9.0    43.0    39.0  0.244216\n",
      "133  williea02   889   3058.0   756.0  138.0   361.0   457.0  0.247220\n",
      "134  willisc01   344     23.0     1.0    0.0     1.0     0.0  0.043478\n",
      "135   woodke02   449    346.0    59.0    7.0    23.0    32.0  0.170520\n",
      "136  worreto01   617     27.0     2.0    0.0     1.0     0.0  0.074074\n",
      "137  zachrpa01   293    318.0    36.0    0.0     9.0     6.0  0.113208\n"
     ]
    }
   ],
   "source": [
    "#10.1\n",
    "#Print the batting_rookies_career_totals to see if there are any unexpected players included.\n",
    "#Set max_rows and max_columns to 999 to ensure all the data is visible.\n",
    "with pd.option_context('display.max_rows', 999, 'display.max_columns', 999): \n",
    "    print batting_rookies_career_totals"
   ]
  },
  {
   "cell_type": "markdown",
   "metadata": {},
   "source": [
    "Followup to Step 10.1:\n",
    "It appears that there are some AVG equal NaN. I will change these values to 0, because they have 0 hits.\n",
    "\n",
    "Step 10.1.1: Change NaN values to 0."
   ]
  },
  {
   "cell_type": "code",
   "execution_count": 25,
   "metadata": {
    "collapsed": false
   },
   "outputs": [],
   "source": [
    "#10.1.1\n",
    "batting_rookies_career_totals = batting_rookies_career_totals.fillna(0)"
   ]
  },
  {
   "cell_type": "code",
   "execution_count": 26,
   "metadata": {
    "collapsed": false
   },
   "outputs": [
    {
     "name": "stdout",
     "output_type": "stream",
     "text": [
      "     playerID    G    W   IPouts      BFP     H   HR    SO    ER     BAopp  \\\n",
      "0   bahnsst01  574  146   7587.0  10701.0  2440  223  1359  1013  0.228016   \n",
      "1   bailean01  216   11    680.0    913.0   170   22   233    69  0.186199   \n",
      "2   blackjo02  172   30   1242.0   1737.0   391   53   222   180  0.225101   \n",
      "3    byrdha01  187   46   2483.0   3675.0   890   71   381   400  0.242177   \n",
      "4   cansejo01    1    0      3.0      8.0     2    0     0     3  0.250000   \n",
      "5    darkal01    1    0      3.0      5.0     1    1     0     2  0.200000   \n",
      "6   degroja01   52   23    994.0   1316.0   266   23   349    96  0.202128   \n",
      "7   felizne01  246   15    869.0   1168.0   208   26   265   102  0.178082   \n",
      "8   fernajo02   47   22    867.0   1151.0   208   18   336    77  0.180712   \n",
      "9   fidryma01   58   29   1237.0   1695.0   397   23   170   142  0.234218   \n",
      "10  goodedw01  430  194   8402.0  11705.0  2564  210  2293  1091  0.219052   \n",
      "11   grimbo01  268   61   2279.0   3234.0   708   50   443   305  0.218924   \n",
      "12  hellije01  142   49   2358.0   3318.0   748  105   584   344  0.225437   \n",
      "13   howest01  497   47   1818.0   2523.0   586   32   328   204  0.232263   \n",
      "14  jennija01  225   62   3385.0   5032.0  1253  137   749   621  0.249006   \n",
      "15  kimbrcr01  355   19   1045.0   1366.0   193   18   563    63  0.141288   \n",
      "16  matlajo01  361  125   7089.0   9789.0  2276  161  1516   835  0.232506   \n",
      "17  metzgbu01  191   18    880.0   1286.0   289   23   175   122  0.224728   \n",
      "18  montejo01  298   90   4957.0   6983.0  1604  135  1081   650  0.229701   \n",
      "19  mortoca01  255   87   4946.0   7113.0  1753  120   650   684  0.246450   \n",
      "20  newcodo01  344  149   6464.0   8891.0  2102  252  1129   852  0.236419   \n",
      "21   nomohi01  323  123   5929.0   8462.0  1768  251  1918   932  0.208934   \n",
      "22  olsongr01  622   40   2016.0   2889.0   598   46   588   258  0.206992   \n",
      "23  peterga01  359  124   6243.0   8707.0  1894  157  1420   751  0.217526   \n",
      "24  righeda01  718   82   4211.0   5988.0  1287   95  1112   540  0.214930   \n",
      "25  sanfoja02  388  137   6148.0   8659.0  1907  174  1182   840  0.220233   \n",
      "26  sasakka01  228    7    670.0    925.0   165   24   242    78  0.178378   \n",
      "27  schwado01  172   49   2229.0   3251.0   710   50   408   307  0.218394   \n",
      "28  scorehe01  150   55   2575.0   3696.0   609   79   837   320  0.164773   \n",
      "29  seaveto01  656  311  14348.0  19369.0  3971  380  3640  1521  0.205018   \n",
      "30  streehu01  638   39   1961.0   2598.0   509   65   648   207  0.195920   \n",
      "31  sutclri01  457  171   8093.0  11548.0  2662  236  1679  1223  0.230516   \n",
      "32  suzukic01    1    0      3.0      5.0     2    0     0     1  0.400000   \n",
      "33  valenfe01  453  173   8790.0  12398.0  2718  226  2074  1154  0.219229   \n",
      "34  verlaju01  318  157   6334.0   8761.0  1901  187  1943   825  0.216984   \n",
      "35  willido03  205   72   3665.0   5325.0  1251  114   896   566  0.234930   \n",
      "36  willisc01  344   28   1318.0   1864.0   326   35   510   164  0.174893   \n",
      "37   woodke02  446   86   4140.0   5863.0  1083  148  1582   563  0.184718   \n",
      "38  worreto01  617   50   2081.0   2893.0   608   65   628   238  0.210162   \n",
      "39  zachrpa01  293   69   3532.0   5050.0  1147   88   669   461  0.227129   \n",
      "\n",
      "          ERA  \n",
      "0    3.604982  \n",
      "1    2.739706  \n",
      "2    3.913043  \n",
      "3    4.349577  \n",
      "4   27.000000  \n",
      "5   18.000000  \n",
      "6    2.607646  \n",
      "7    3.169160  \n",
      "8    2.397924  \n",
      "9    3.099434  \n",
      "10   3.505951  \n",
      "11   3.613427  \n",
      "12   3.938931  \n",
      "13   3.029703  \n",
      "14   4.953323  \n",
      "15   1.627751  \n",
      "16   3.180279  \n",
      "17   3.743182  \n",
      "18   3.540448  \n",
      "19   3.733926  \n",
      "20   3.558787  \n",
      "21   4.244223  \n",
      "22   3.455357  \n",
      "23   3.247958  \n",
      "24   3.462360  \n",
      "25   3.689005  \n",
      "26   3.143284  \n",
      "27   3.718708  \n",
      "28   3.355340  \n",
      "29   2.862211  \n",
      "30   2.850076  \n",
      "31   4.080193  \n",
      "32   9.000000  \n",
      "33   3.544710  \n",
      "34   3.516735  \n",
      "35   4.169714  \n",
      "36   3.359636  \n",
      "37   3.671739  \n",
      "38   3.087938  \n",
      "39   3.524066  \n"
     ]
    }
   ],
   "source": [
    "#10.2\n",
    "#Print the pitching_rookies_careet_totals to see if there are any unexpected players included.\n",
    "#Set max_rows and max_columns to 999 to ensure all the data is visible.\n",
    "with pd.option_context('display.max_rows', 999, 'display.max_columns', 999):\n",
    "    print pitching_rookies_career_totals"
   ]
  },
  {
   "cell_type": "markdown",
   "metadata": {},
   "source": [
    "Followup to Step 10.2:\n",
    "It appears that there are three fielders included in the dataframe. I will remove them from the dataframe to calculate more accurate values of how well RY winning pitchers pitch. Fielders rarely pitch so it does not make a great deal of sense to include them in the dataframe."
   ]
  },
  {
   "cell_type": "code",
   "execution_count": 27,
   "metadata": {
    "collapsed": true
   },
   "outputs": [],
   "source": [
    "#10.2.1\n",
    "#Create a new dataframe without the fielders.\n",
    "only_pitching_rookies_career_totals = pitching_rookies_career_totals[pitching_rookies_career_totals.G > 1]"
   ]
  },
  {
   "cell_type": "code",
   "execution_count": 28,
   "metadata": {
    "collapsed": true
   },
   "outputs": [],
   "source": [
    "#10.2.2\n",
    "#Calculate the new pitching_rookies_overall_means.\n",
    "only_pitching_rookies_overall_means = only_pitching_rookies_career_totals.mean()"
   ]
  },
  {
   "cell_type": "code",
   "execution_count": 29,
   "metadata": {
    "collapsed": false
   },
   "outputs": [
    {
     "name": "stdout",
     "output_type": "stream",
     "text": [
      "G = 0.865803814714\n",
      "W = 0.918085831063\n",
      "IPouts = 0.910762942779\n",
      "BFP = 0.908719346049\n",
      "H = 0.901566757493\n",
      "HR = 0.891178474114\n",
      "SO = 0.927963215259\n",
      "ER = 0.895265667575\n",
      "BAopp = 0.215429155313\n",
      "ERA = 0.165701634877\n"
     ]
    }
   ],
   "source": [
    "#10.2.3\n",
    "#Calculate the new percentiles.\n",
    "pitching_statistics = ['G','W','IPouts','BFP','H','HR','SO','ER','BAopp','ERA']\n",
    "for statistic in pitching_statistics:\n",
    "    print statistic + ' = ' + str(percentile(pitching_df_career_totals[statistic], only_pitching_rookies_overall_means[statistic]))"
   ]
  },
  {
   "cell_type": "markdown",
   "metadata": {},
   "source": [
    "Followup to 10.2.3: These values, especially ERA, are much closer to those that I expected. I believe removing the three fielders from the dataframe have provided percentiles that are much more reflective of the skills of RY winning pitchers."
   ]
  },
  {
   "cell_type": "code",
   "execution_count": 30,
   "metadata": {
    "collapsed": false
   },
   "outputs": [
    {
     "name": "stdout",
     "output_type": "stream",
     "text": [
      "G = 0.0187329700272\n",
      "W = 0.00868528610354\n",
      "IPouts = 0.012091280654\n",
      "BFP = 0.0129427792916\n",
      "H = 0.0108991825613\n",
      "HR = 0.00902588555858\n",
      "SO = 0.0103882833787\n",
      "ER = 0.0091961852861\n",
      "BAopp = -0.0538147138965\n",
      "ERA = -0.376021798365\n"
     ]
    }
   ],
   "source": [
    "#10.2.4\n",
    "#Subtract new values from the old ones to show the difference.\n",
    "pitching_statistics = ['G','W','IPouts','BFP','H','HR','SO','ER','BAopp','ERA']\n",
    "for statistic in pitching_statistics:\n",
    "    print statistic + ' = ' + str(percentile(pitching_df_career_totals[statistic], \n",
    "                                             only_pitching_rookies_overall_means[statistic]) -\n",
    "                                  percentile(pitching_df_career_totals[statistic], \n",
    "                                             pitching_rookies_overall_means[statistic]))"
   ]
  },
  {
   "cell_type": "markdown",
   "metadata": {},
   "source": [
    "Followup to 10.2.4: These values are similar to those prior, therefore I do not feel the need to make another set of plots. BAopp and ERA will be plotted later on."
   ]
  },
  {
   "cell_type": "markdown",
   "metadata": {},
   "source": [
    "Step 11: Adjust measurements:\n",
    "The RY winners' Batting Average seems surprisingly low compared to the the other percentiles. I believe this is due to finding the mean of the players' batting averages, instead of finding the batting average of all of the At Bats (AB) of RY winners. Finding this new percentile will dilute the weight of pitchers who have batted, because they play less often, therefore bat less, and typically have a lower batting average. In short, this new measurement should provide a more accurate representation of how well RY winners bat."
   ]
  },
  {
   "cell_type": "code",
   "execution_count": 31,
   "metadata": {
    "collapsed": false
   },
   "outputs": [],
   "source": [
    "#11.1\n",
    "#Find the new value for AVG, by using the sum of all players' Hits (H) and At Bats (AB) statistics.\n",
    "#Then divide the value of Hits by At Bats.\n",
    "batting_rookies_new_AVG = batting_rookies_career_totals['H'].sum() / batting_rookies_career_totals['AB'].sum()"
   ]
  },
  {
   "cell_type": "code",
   "execution_count": 32,
   "metadata": {
    "collapsed": false
   },
   "outputs": [
    {
     "name": "stdout",
     "output_type": "stream",
     "text": [
      "AVG = 0.801218724033\n"
     ]
    }
   ],
   "source": [
    "#11.2\n",
    "#Find the new percentile for AVG.\n",
    "print 'AVG = ' + str(percentile(batting_df_career_totals['AVG'], batting_rookies_new_AVG))"
   ]
  },
  {
   "cell_type": "markdown",
   "metadata": {},
   "source": [
    "Followup to 11.2: This value is much closer to the other percentiles of the other batting statistics, and one that I believe is more accurate of the skill of RY winning batters."
   ]
  },
  {
   "cell_type": "code",
   "execution_count": 33,
   "metadata": {
    "collapsed": false
   },
   "outputs": [
    {
     "name": "stdout",
     "output_type": "stream",
     "text": [
      "AVG: Difference = 0.036527506919\n",
      "AVG: % Difference = 15.1165840091\n"
     ]
    }
   ],
   "source": [
    "#11.2.1 \n",
    "#Subtract previous value from new value to show the difference, followed by their relative differences.\n",
    "print \"AVG: Difference = \" + str(batting_rookies_new_AVG - batting_rookies_overall_means['AVG'])\n",
    "print \"AVG: % Difference = \" + str((batting_rookies_new_AVG - batting_rookies_overall_means['AVG'])/ \n",
    "                              batting_rookies_overall_means['AVG']*100)"
   ]
  },
  {
   "cell_type": "markdown",
   "metadata": {},
   "source": [
    "Step 11.3\n",
    "Compare RY winners' AVG, BAopp, and ERA to all other players via plots. \n",
    "I am using box plots to show the spread of these values, \n",
    "as I believe they are the most important in determining the quality of the players, \n",
    "thus a more accurate depiction of their values should be worthwhile."
   ]
  },
  {
   "cell_type": "code",
   "execution_count": 34,
   "metadata": {
    "collapsed": false
   },
   "outputs": [
    {
     "data": {
      "image/png": "[encoded data removed]",
      "text/plain": [
       "<matplotlib.figure.Figure at 0x109166150>"
      ]
     },
     "metadata": {},
     "output_type": "display_data"
    }
   ],
   "source": [
    "#11.3.1\n",
    "#Compare RY winners' AVG to all other batters.\n",
    "batting_statisitc_AVG = pd.DataFrame({'RY Winners': batting_rookies_career_totals['AVG'],\n",
    "                                      'All Batters': batting_df_career_totals['AVG']},\n",
    "                                      columns = ['RY Winners', 'All Batters'])\n",
    "\n",
    "batting_statisitc_AVG.plot(kind='box', ylim = [-0.1,0.5])\n",
    "plt.show()"
   ]
  },
  {
   "cell_type": "code",
   "execution_count": 35,
   "metadata": {
    "collapsed": false
   },
   "outputs": [
    {
     "data": {
      "image/png": "[encoded data removed]",
      "text/plain": [
       "<matplotlib.figure.Figure at 0x109812510>"
      ]
     },
     "metadata": {},
     "output_type": "display_data"
    }
   ],
   "source": [
    "#10.3.2\n",
    "#Compare RY winners' BAopp to all other pitchers.\n",
    "pitching_stats_BAopp = pd.DataFrame({'RY Winners': only_pitching_rookies_career_totals['BAopp'],\n",
    "                                     'All Pitchers': pitching_df_career_totals['BAopp']},\n",
    "                                     columns=['RY Winners','All Pitchers'])\n",
    "\n",
    "pitching_stats_BAopp.plot(kind='box', ylim = [0,0.4])\n",
    "plt.show()"
   ]
  },
  {
   "cell_type": "code",
   "execution_count": 36,
   "metadata": {
    "collapsed": false
   },
   "outputs": [
    {
     "data": {
      "image/png": "[encoded data removed]",
      "text/plain": [
       "<matplotlib.figure.Figure at 0x109bec210>"
      ]
     },
     "metadata": {},
     "output_type": "display_data"
    }
   ],
   "source": [
    "#10.3.3\n",
    "#Compare RY winners' ERA to all other pitchers.\n",
    "pitching_stats_ERA = pd.DataFrame({'RY Winners': only_pitching_rookies_career_totals['ERA'],\n",
    "                                   'All Pitchers': pitching_df_career_totals['ERA']},\n",
    "                                   columns=['RY Winners','All Pitchers'])\n",
    "\n",
    "pitching_stats_ERA.plot(kind='box', ylim = [0,10])\n",
    "plt.show()"
   ]
  },
  {
   "cell_type": "markdown",
   "metadata": {},
   "source": [
    "The Goal (1) Summary:\n",
    "I believe that it is clear to say that RY winners have above average careers in the MLB. In all the measurements that were used to compare RY winners with all other MLB players, they performed well above average, regularly in the 90th+ percentile."
   ]
  },
  {
   "cell_type": "markdown",
   "metadata": {},
   "source": [
    "Step 11: Calculate if RY winners are improving with time."
   ]
  },
  {
   "cell_type": "code",
   "execution_count": 37,
   "metadata": {
    "collapsed": false
   },
   "outputs": [],
   "source": [
    "#11.1\n",
    "#Create new dataframes for the yearly calculations.\n",
    "yearly_batting_rookies = ry_winners.merge(batting_df,\n",
    "                                         how = 'left',\n",
    "                                         on = 'playerID')\n",
    "\n",
    "yearly_pitching_rookies = ry_winners.merge(pitching_df,\n",
    "                                           how = 'inner',\n",
    "                                           on = 'playerID')"
   ]
  },
  {
   "cell_type": "code",
   "execution_count": 38,
   "metadata": {
    "collapsed": false
   },
   "outputs": [],
   "source": [
    "#11.2\n",
    "#Include only the relevant statistics in the dataframes.\n",
    "yearly_batting_rookies = yearly_batting_rookies[['yearID','G','AB','H','HR','R','RBI']]\n",
    "yearly_pitching_rookies = yearly_pitching_rookies[['yearID','G','W','IPouts','BFP','H','HR','SO','ER']]"
   ]
  },
  {
   "cell_type": "code",
   "execution_count": 39,
   "metadata": {
    "collapsed": true
   },
   "outputs": [],
   "source": [
    "#11.3\n",
    "#Group statistics by year to calculate the yearly changes.\n",
    "yearly_batting_rookies_career_totals = yearly_batting_rookies.groupby('yearID', as_index = False).sum()\n",
    "yearly_pitching_rookies_career_totals = yearly_pitching_rookies.groupby('yearID', as_index = False).sum()"
   ]
  },
  {
   "cell_type": "code",
   "execution_count": 40,
   "metadata": {
    "collapsed": false
   },
   "outputs": [],
   "source": [
    "#11.4 \n",
    "#Create empty dataframes to be filled with standardized values.\n",
    "yearly_batting_rookies_career_totals_standardized = pd.DataFrame()\n",
    "yearly_pitching_rookies_career_totals_standardized = pd.DataFrame()"
   ]
  },
  {
   "cell_type": "code",
   "execution_count": 41,
   "metadata": {
    "collapsed": false
   },
   "outputs": [],
   "source": [
    "#11.5.1.1\n",
    "'''\n",
    "Add the standardized values to the empty dataframes. \n",
    "Batters are standardized by At Bats, because this will show how successful a batter is at each At Bat and \n",
    "if there are different amount of At Bats each season, the yearly differences will be factored out.\n",
    "'''\n",
    "yearly_batting_statistics = ['G','AB','H','HR','R','RBI']\n",
    "for statistic in yearly_batting_statistics:\n",
    "    yearly_batting_rookies_career_totals_standardized[statistic] = (yearly_batting_rookies_career_totals[statistic] /\n",
    "                                                                    yearly_batting_rookies_career_totals['AB'])"
   ]
  },
  {
   "cell_type": "code",
   "execution_count": 42,
   "metadata": {
    "collapsed": true
   },
   "outputs": [],
   "source": [
    "#11.5.1.2\n",
    "#Calculate and add AVG to the batting standardized values dataframe.\n",
    "yearly_batting_rookies_career_totals_standardized['AVG'] = (yearly_batting_rookies_career_totals['H'] /\n",
    "                                               yearly_batting_rookies_career_totals['AB'])"
   ]
  },
  {
   "cell_type": "code",
   "execution_count": 43,
   "metadata": {
    "collapsed": false
   },
   "outputs": [],
   "source": [
    "#11.5.2.1\n",
    "'''\n",
    "Add the standardized values to the empty dataframes.\n",
    "Pitchers are standardized by Batters Faced, \n",
    "because this will show how successful a pitcher typically is against a batter, \n",
    "and if pitchers face a different amount of batters each year, this will be factored out.\n",
    "'''\n",
    "yearly_pitching_statistics = ['G','W','IPouts','BFP','H','HR','SO','ER']\n",
    "for statistic in yearly_pitching_statistics:\n",
    "    yearly_pitching_rookies_career_totals_standardized[statistic] = (yearly_pitching_rookies_career_totals[statistic] / \n",
    "                                                                     yearly_pitching_rookies_career_totals['BFP'])"
   ]
  },
  {
   "cell_type": "code",
   "execution_count": 44,
   "metadata": {
    "collapsed": true
   },
   "outputs": [],
   "source": [
    "#11.5.2.2\n",
    "#Calculate and add BAopp and ERA to the pitching standardized values dataframe.\n",
    "yearly_pitching_rookies_career_totals_standardized['BAopp'] = (yearly_pitching_rookies_career_totals['H'] /\n",
    "                                                  yearly_pitching_rookies_career_totals['BFP'])\n",
    "yearly_pitching_rookies_career_totals_standardized['ERA'] = (yearly_pitching_rookies_career_totals['ER'] /\n",
    "                                                (yearly_pitching_rookies_career_totals['IPouts'] / 27))"
   ]
  },
  {
   "cell_type": "code",
   "execution_count": 45,
   "metadata": {
    "collapsed": false
   },
   "outputs": [],
   "source": [
    "#11.6\n",
    "#Add the years (yearID) to the dataframes.\n",
    "yearly_batting_rookies_career_totals_standardized['yearID'] = yearly_batting_rookies_career_totals['yearID']\n",
    "yearly_pitching_rookies_career_totals_standardized['yearID'] = yearly_pitching_rookies_career_totals['yearID']"
   ]
  },
  {
   "cell_type": "code",
   "execution_count": 46,
   "metadata": {
    "collapsed": false
   },
   "outputs": [
    {
     "data": {
      "text/html": [
       "<div>\n",
       "<table border=\"1\" class=\"dataframe\">\n",
       "  <thead>\n",
       "    <tr style=\"text-align: right;\">\n",
       "      <th></th>\n",
       "      <th>G</th>\n",
       "      <th>AB</th>\n",
       "      <th>H</th>\n",
       "      <th>HR</th>\n",
       "      <th>R</th>\n",
       "      <th>RBI</th>\n",
       "      <th>AVG</th>\n",
       "      <th>yearID</th>\n",
       "    </tr>\n",
       "  </thead>\n",
       "  <tbody>\n",
       "    <tr>\n",
       "      <th>G</th>\n",
       "      <td>1.000000</td>\n",
       "      <td>NaN</td>\n",
       "      <td>-0.348781</td>\n",
       "      <td>-0.288255</td>\n",
       "      <td>-0.429037</td>\n",
       "      <td>-0.032460</td>\n",
       "      <td>-0.348781</td>\n",
       "      <td>0.172644</td>\n",
       "    </tr>\n",
       "    <tr>\n",
       "      <th>AB</th>\n",
       "      <td>NaN</td>\n",
       "      <td>NaN</td>\n",
       "      <td>NaN</td>\n",
       "      <td>NaN</td>\n",
       "      <td>NaN</td>\n",
       "      <td>NaN</td>\n",
       "      <td>NaN</td>\n",
       "      <td>NaN</td>\n",
       "    </tr>\n",
       "    <tr>\n",
       "      <th>H</th>\n",
       "      <td>-0.348781</td>\n",
       "      <td>NaN</td>\n",
       "      <td>1.000000</td>\n",
       "      <td>0.361156</td>\n",
       "      <td>0.832639</td>\n",
       "      <td>0.436682</td>\n",
       "      <td>1.000000</td>\n",
       "      <td>0.061390</td>\n",
       "    </tr>\n",
       "    <tr>\n",
       "      <th>HR</th>\n",
       "      <td>-0.288255</td>\n",
       "      <td>NaN</td>\n",
       "      <td>0.361156</td>\n",
       "      <td>1.000000</td>\n",
       "      <td>0.570076</td>\n",
       "      <td>0.900936</td>\n",
       "      <td>0.361156</td>\n",
       "      <td>0.227543</td>\n",
       "    </tr>\n",
       "    <tr>\n",
       "      <th>R</th>\n",
       "      <td>-0.429037</td>\n",
       "      <td>NaN</td>\n",
       "      <td>0.832639</td>\n",
       "      <td>0.570076</td>\n",
       "      <td>1.000000</td>\n",
       "      <td>0.518495</td>\n",
       "      <td>0.832639</td>\n",
       "      <td>0.108133</td>\n",
       "    </tr>\n",
       "    <tr>\n",
       "      <th>RBI</th>\n",
       "      <td>-0.032460</td>\n",
       "      <td>NaN</td>\n",
       "      <td>0.436682</td>\n",
       "      <td>0.900936</td>\n",
       "      <td>0.518495</td>\n",
       "      <td>1.000000</td>\n",
       "      <td>0.436682</td>\n",
       "      <td>0.225669</td>\n",
       "    </tr>\n",
       "    <tr>\n",
       "      <th>AVG</th>\n",
       "      <td>-0.348781</td>\n",
       "      <td>NaN</td>\n",
       "      <td>1.000000</td>\n",
       "      <td>0.361156</td>\n",
       "      <td>0.832639</td>\n",
       "      <td>0.436682</td>\n",
       "      <td>1.000000</td>\n",
       "      <td>0.061390</td>\n",
       "    </tr>\n",
       "    <tr>\n",
       "      <th>yearID</th>\n",
       "      <td>0.172644</td>\n",
       "      <td>NaN</td>\n",
       "      <td>0.061390</td>\n",
       "      <td>0.227543</td>\n",
       "      <td>0.108133</td>\n",
       "      <td>0.225669</td>\n",
       "      <td>0.061390</td>\n",
       "      <td>1.000000</td>\n",
       "    </tr>\n",
       "  </tbody>\n",
       "</table>\n",
       "</div>"
      ],
      "text/plain": [
       "               G  AB         H        HR         R       RBI       AVG  \\\n",
       "G       1.000000 NaN -0.348781 -0.288255 -0.429037 -0.032460 -0.348781   \n",
       "AB           NaN NaN       NaN       NaN       NaN       NaN       NaN   \n",
       "H      -0.348781 NaN  1.000000  0.361156  0.832639  0.436682  1.000000   \n",
       "HR     -0.288255 NaN  0.361156  1.000000  0.570076  0.900936  0.361156   \n",
       "R      -0.429037 NaN  0.832639  0.570076  1.000000  0.518495  0.832639   \n",
       "RBI    -0.032460 NaN  0.436682  0.900936  0.518495  1.000000  0.436682   \n",
       "AVG    -0.348781 NaN  1.000000  0.361156  0.832639  0.436682  1.000000   \n",
       "yearID  0.172644 NaN  0.061390  0.227543  0.108133  0.225669  0.061390   \n",
       "\n",
       "          yearID  \n",
       "G       0.172644  \n",
       "AB           NaN  \n",
       "H       0.061390  \n",
       "HR      0.227543  \n",
       "R       0.108133  \n",
       "RBI     0.225669  \n",
       "AVG     0.061390  \n",
       "yearID  1.000000  "
      ]
     },
     "execution_count": 46,
     "metadata": {},
     "output_type": "execute_result"
    }
   ],
   "source": [
    "#11.7\n",
    "#Calculate the correlation for batters.\n",
    "yearly_batting_rookies_career_totals_standardized.corr()"
   ]
  },
  {
   "cell_type": "markdown",
   "metadata": {},
   "source": [
    "Follow up to 11.7:\n",
    "By looking at the yearID column/row, we can see that RY winning batters, on average, improve in all areas with each successive year."
   ]
  },
  {
   "cell_type": "code",
   "execution_count": 47,
   "metadata": {
    "collapsed": false
   },
   "outputs": [
    {
     "data": {
      "text/html": [
       "<div>\n",
       "<table border=\"1\" class=\"dataframe\">\n",
       "  <thead>\n",
       "    <tr style=\"text-align: right;\">\n",
       "      <th></th>\n",
       "      <th>G</th>\n",
       "      <th>W</th>\n",
       "      <th>IPouts</th>\n",
       "      <th>BFP</th>\n",
       "      <th>H</th>\n",
       "      <th>HR</th>\n",
       "      <th>SO</th>\n",
       "      <th>ER</th>\n",
       "      <th>BAopp</th>\n",
       "      <th>ERA</th>\n",
       "      <th>yearID</th>\n",
       "    </tr>\n",
       "  </thead>\n",
       "  <tbody>\n",
       "    <tr>\n",
       "      <th>G</th>\n",
       "      <td>1.000000</td>\n",
       "      <td>-0.398919</td>\n",
       "      <td>-0.077348</td>\n",
       "      <td>NaN</td>\n",
       "      <td>-0.069148</td>\n",
       "      <td>0.212708</td>\n",
       "      <td>0.096844</td>\n",
       "      <td>0.216759</td>\n",
       "      <td>-0.069148</td>\n",
       "      <td>0.223468</td>\n",
       "      <td>0.320711</td>\n",
       "    </tr>\n",
       "    <tr>\n",
       "      <th>W</th>\n",
       "      <td>-0.398919</td>\n",
       "      <td>1.000000</td>\n",
       "      <td>0.751863</td>\n",
       "      <td>NaN</td>\n",
       "      <td>-0.441512</td>\n",
       "      <td>-0.533458</td>\n",
       "      <td>0.540934</td>\n",
       "      <td>-0.765019</td>\n",
       "      <td>-0.441512</td>\n",
       "      <td>-0.774742</td>\n",
       "      <td>0.034162</td>\n",
       "    </tr>\n",
       "    <tr>\n",
       "      <th>IPouts</th>\n",
       "      <td>-0.077348</td>\n",
       "      <td>0.751863</td>\n",
       "      <td>1.000000</td>\n",
       "      <td>NaN</td>\n",
       "      <td>-0.590532</td>\n",
       "      <td>-0.485380</td>\n",
       "      <td>0.767301</td>\n",
       "      <td>-0.801075</td>\n",
       "      <td>-0.590532</td>\n",
       "      <td>-0.813054</td>\n",
       "      <td>0.322662</td>\n",
       "    </tr>\n",
       "    <tr>\n",
       "      <th>BFP</th>\n",
       "      <td>NaN</td>\n",
       "      <td>NaN</td>\n",
       "      <td>NaN</td>\n",
       "      <td>NaN</td>\n",
       "      <td>NaN</td>\n",
       "      <td>NaN</td>\n",
       "      <td>NaN</td>\n",
       "      <td>NaN</td>\n",
       "      <td>NaN</td>\n",
       "      <td>NaN</td>\n",
       "      <td>NaN</td>\n",
       "    </tr>\n",
       "    <tr>\n",
       "      <th>H</th>\n",
       "      <td>-0.069148</td>\n",
       "      <td>-0.441512</td>\n",
       "      <td>-0.590532</td>\n",
       "      <td>NaN</td>\n",
       "      <td>1.000000</td>\n",
       "      <td>-0.181902</td>\n",
       "      <td>-0.709215</td>\n",
       "      <td>0.261430</td>\n",
       "      <td>1.000000</td>\n",
       "      <td>0.279431</td>\n",
       "      <td>-0.083578</td>\n",
       "    </tr>\n",
       "    <tr>\n",
       "      <th>HR</th>\n",
       "      <td>0.212708</td>\n",
       "      <td>-0.533458</td>\n",
       "      <td>-0.485380</td>\n",
       "      <td>NaN</td>\n",
       "      <td>-0.181902</td>\n",
       "      <td>1.000000</td>\n",
       "      <td>-0.353812</td>\n",
       "      <td>0.882490</td>\n",
       "      <td>-0.181902</td>\n",
       "      <td>0.870750</td>\n",
       "      <td>-0.277637</td>\n",
       "    </tr>\n",
       "    <tr>\n",
       "      <th>SO</th>\n",
       "      <td>0.096844</td>\n",
       "      <td>0.540934</td>\n",
       "      <td>0.767301</td>\n",
       "      <td>NaN</td>\n",
       "      <td>-0.709215</td>\n",
       "      <td>-0.353812</td>\n",
       "      <td>1.000000</td>\n",
       "      <td>-0.633312</td>\n",
       "      <td>-0.709215</td>\n",
       "      <td>-0.640417</td>\n",
       "      <td>0.615613</td>\n",
       "    </tr>\n",
       "    <tr>\n",
       "      <th>ER</th>\n",
       "      <td>0.216759</td>\n",
       "      <td>-0.765019</td>\n",
       "      <td>-0.801075</td>\n",
       "      <td>NaN</td>\n",
       "      <td>0.261430</td>\n",
       "      <td>0.882490</td>\n",
       "      <td>-0.633312</td>\n",
       "      <td>1.000000</td>\n",
       "      <td>0.261430</td>\n",
       "      <td>0.999432</td>\n",
       "      <td>-0.272141</td>\n",
       "    </tr>\n",
       "    <tr>\n",
       "      <th>BAopp</th>\n",
       "      <td>-0.069148</td>\n",
       "      <td>-0.441512</td>\n",
       "      <td>-0.590532</td>\n",
       "      <td>NaN</td>\n",
       "      <td>1.000000</td>\n",
       "      <td>-0.181902</td>\n",
       "      <td>-0.709215</td>\n",
       "      <td>0.261430</td>\n",
       "      <td>1.000000</td>\n",
       "      <td>0.279431</td>\n",
       "      <td>-0.083578</td>\n",
       "    </tr>\n",
       "    <tr>\n",
       "      <th>ERA</th>\n",
       "      <td>0.223468</td>\n",
       "      <td>-0.774742</td>\n",
       "      <td>-0.813054</td>\n",
       "      <td>NaN</td>\n",
       "      <td>0.279431</td>\n",
       "      <td>0.870750</td>\n",
       "      <td>-0.640417</td>\n",
       "      <td>0.999432</td>\n",
       "      <td>0.279431</td>\n",
       "      <td>1.000000</td>\n",
       "      <td>-0.269192</td>\n",
       "    </tr>\n",
       "    <tr>\n",
       "      <th>yearID</th>\n",
       "      <td>0.320711</td>\n",
       "      <td>0.034162</td>\n",
       "      <td>0.322662</td>\n",
       "      <td>NaN</td>\n",
       "      <td>-0.083578</td>\n",
       "      <td>-0.277637</td>\n",
       "      <td>0.615613</td>\n",
       "      <td>-0.272141</td>\n",
       "      <td>-0.083578</td>\n",
       "      <td>-0.269192</td>\n",
       "      <td>1.000000</td>\n",
       "    </tr>\n",
       "  </tbody>\n",
       "</table>\n",
       "</div>"
      ],
      "text/plain": [
       "               G         W    IPouts  BFP         H        HR        SO  \\\n",
       "G       1.000000 -0.398919 -0.077348  NaN -0.069148  0.212708  0.096844   \n",
       "W      -0.398919  1.000000  0.751863  NaN -0.441512 -0.533458  0.540934   \n",
       "IPouts -0.077348  0.751863  1.000000  NaN -0.590532 -0.485380  0.767301   \n",
       "BFP          NaN       NaN       NaN  NaN       NaN       NaN       NaN   \n",
       "H      -0.069148 -0.441512 -0.590532  NaN  1.000000 -0.181902 -0.709215   \n",
       "HR      0.212708 -0.533458 -0.485380  NaN -0.181902  1.000000 -0.353812   \n",
       "SO      0.096844  0.540934  0.767301  NaN -0.709215 -0.353812  1.000000   \n",
       "ER      0.216759 -0.765019 -0.801075  NaN  0.261430  0.882490 -0.633312   \n",
       "BAopp  -0.069148 -0.441512 -0.590532  NaN  1.000000 -0.181902 -0.709215   \n",
       "ERA     0.223468 -0.774742 -0.813054  NaN  0.279431  0.870750 -0.640417   \n",
       "yearID  0.320711  0.034162  0.322662  NaN -0.083578 -0.277637  0.615613   \n",
       "\n",
       "              ER     BAopp       ERA    yearID  \n",
       "G       0.216759 -0.069148  0.223468  0.320711  \n",
       "W      -0.765019 -0.441512 -0.774742  0.034162  \n",
       "IPouts -0.801075 -0.590532 -0.813054  0.322662  \n",
       "BFP          NaN       NaN       NaN       NaN  \n",
       "H       0.261430  1.000000  0.279431 -0.083578  \n",
       "HR      0.882490 -0.181902  0.870750 -0.277637  \n",
       "SO     -0.633312 -0.709215 -0.640417  0.615613  \n",
       "ER      1.000000  0.261430  0.999432 -0.272141  \n",
       "BAopp   0.261430  1.000000  0.279431 -0.083578  \n",
       "ERA     0.999432  0.279431  1.000000 -0.269192  \n",
       "yearID -0.272141 -0.083578 -0.269192  1.000000  "
      ]
     },
     "execution_count": 47,
     "metadata": {},
     "output_type": "execute_result"
    }
   ],
   "source": [
    "#11.8\n",
    "#Calculate the correlation for pitchers.\n",
    "yearly_pitching_rookies_career_totals_standardized.corr()"
   ]
  },
  {
   "cell_type": "markdown",
   "metadata": {},
   "source": [
    "Follow up to 11.8:\n",
    "By looking at the yearID column/row, we can see that RY winning pitchers also, on average, improve with each successive year. H, HR, ER, BAopp, and ERA all have negative values, which means that pitchers are giving up fewer hits, home runs, and earned runs, and they are playing more games, winning more games, and striking out more players, on average, with each passing year."
   ]
  },
  {
   "cell_type": "markdown",
   "metadata": {},
   "source": [
    "Summary of Goal 2:\n",
    "It appears that RY winners are becoming better batters and pitchers, on average, with each passing year, based on the correlation between years and each statistic."
   ]
  },
  {
   "cell_type": "markdown",
   "metadata": {},
   "source": [
    "Overall Summary:\n",
    "I am quite pleased to have answered both of my questions and received the conclusive evidence that I did. Based on these statisitcs, it appears that RY winners are excellent baseball players and are improving over time."
   ]
  },
  {
   "cell_type": "markdown",
   "metadata": {},
   "source": [
    "Limitations to Analysis:\n",
    "1: There is a possibility that I overweighted the better batters in terms of their Batting Averages. By summing the values of the RY winners before calculating AVG, this could overrepresent the better batters, as they bat more often. The main reason I did this, was to underweight the pitchers who have batted. Another option would have been to caluculate the median value for the Batting Average (see below), however, this does not significantly alter the percentile, so I do not think that I have made a misleading analysis with my calculations.\n",
    "\n",
    "2: It could have been worth comparing RY winners to players that have played at least 200 games, for example. These players could be considered 'regular' MLB players who are more 'worthy' of a comparison. By comparing RY winners to these 'regular' MLB players, it could be a more accurate comparison for the true relative skill of RY winners. I thought this analysis was not essential because I found the percentile for each statistic comparing RY winners to all other players. I believe these percentiles are sufficient in answering the original question: To see if winners of 'Rookie of the Year' (RY) have above average careers.\n",
    "\n",
    "3: I did not calculate if there was a trend in the MLB of the average player becoming better overtime. If the average player is becoming relatively better than the average RY winner, then one could argue that the average RY winner is becoming relatively worse overtime. I do not think that this calculation is necessary because it is not essential to answer part 2 of the original question: To see if there is a trend of each winner of RY being better than the previous winner. The correlations found show that RY winners are becoming better over time, which answers the question. Plus, I cannot think of a reason why RY winners would become relatively worse over time. \n",
    "\n",
    "4: I did not remove fielders from pitching_df_career_totals. This could underscore the quality of pitchers in the MLB, but because fielders so rarely pitch in the MLB, I am not worried that I have created a misleading analysis and over-valued the skills of RY winning pitchers."
   ]
  },
  {
   "cell_type": "code",
   "execution_count": 49,
   "metadata": {
    "collapsed": false
   },
   "outputs": [
    {
     "name": "stdout",
     "output_type": "stream",
     "text": [
      "0.748499676853\n"
     ]
    }
   ],
   "source": [
    "#Followup to limitation 1.\n",
    "print percentile(batting_df_career_totals['AVG'], batting_rookies_career_totals['AVG'].median())"
   ]
  },
  {
   "cell_type": "markdown",
   "metadata": {},
   "source": [
    "Reason for these questions:\n",
    "During the 2003-2004 NHL season, Andrew Raycroft, a goalie for the Boston Bruins, played a fantastic season and won the Calder Memorial Trophy (aka Rookie of the Year). During the summer of 2006, the Toronto Maple Leafs (my favourite team) traded for Raycroft. Raycroft never played another particularly good season for the remaineder of his NHL career. I was wondering if this was a trend, RY winners being average players, or if Raycroft was more of an exception. I can't say anything about the NHL, but I can safely say that there is a trend in RY winners being exceptional players in the MLB."
   ]
  },
  {
   "cell_type": "markdown",
   "metadata": {},
   "source": [
    "List of websites used to help perform analysis:\n",
    "http://stackoverflow.com/\n",
    "http://pandas.pydata.org/pandas-docs/stable/index.html\n",
    "https://www.quora.com/\n",
    "https://en.wikipedia.org/wiki/Main_Page\n",
    "http://www.baseball-reference.com/"
   ]
  },
  {
   "cell_type": "code",
   "execution_count": null,
   "metadata": {
    "collapsed": true
   },
   "outputs": [],
   "source": []
  }
 ],
 "metadata": {
  "kernelspec": {
   "display_name": "Python 2",
   "language": "python",
   "name": "python2"
  },
  "language_info": {
   "codemirror_mode": {
    "name": "ipython",
    "version": 2
   },
   "file_extension": ".py",
   "mimetype": "text/x-python",
   "name": "python",
   "nbconvert_exporter": "python",
   "pygments_lexer": "ipython2",
   "version": "2.7.12"
  }
 },
 "nbformat": 4,
 "nbformat_minor": 1
}
